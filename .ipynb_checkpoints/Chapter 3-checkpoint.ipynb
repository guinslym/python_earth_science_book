{
 "cells": [
  {
   "cell_type": "markdown",
   "id": "3d22ebe7",
   "metadata": {},
   "source": [
    "## Chapter 3 - "
   ]
  },
  {
   "cell_type": "code",
   "execution_count": 1,
   "id": "5f7d5f4f",
   "metadata": {},
   "outputs": [
    {
     "ename": "NameError",
     "evalue": "name 'pd' is not defined",
     "output_type": "error",
     "traceback": [
      "\u001b[1;31m---------------------------------------------------------------------------\u001b[0m",
      "\u001b[1;31mNameError\u001b[0m                                 Traceback (most recent call last)",
      "\u001b[1;32mC:\\Users\\MDW606-CAF\\AppData\\Local\\Temp/ipykernel_9536/2676916547.py\u001b[0m in \u001b[0;36m<module>\u001b[1;34m\u001b[0m\n\u001b[1;32m----> 1\u001b[1;33m my_dataset1 = pd.read_excel('Smith_glass_post_NYT_data.xlsx', \n\u001b[0m\u001b[0;32m      2\u001b[0m                            sheet_name='Supp_traces')\n",
      "\u001b[1;31mNameError\u001b[0m: name 'pd' is not defined"
     ]
    }
   ],
   "source": [
    "my_dataset1 = pd.read_excel('Smith_glass_post_NYT_data.xlsx', \n",
    "                           sheet_name='Supp_traces')"
   ]
  },
  {
   "cell_type": "code",
   "execution_count": null,
   "id": "bf0a43ce",
   "metadata": {},
   "outputs": [],
   "source": []
  }
 ],
 "metadata": {
  "kernelspec": {
   "display_name": "Python 3 (ipykernel)",
   "language": "python",
   "name": "python3"
  },
  "language_info": {
   "codemirror_mode": {
    "name": "ipython",
    "version": 3
   },
   "file_extension": ".py",
   "mimetype": "text/x-python",
   "name": "python",
   "nbconvert_exporter": "python",
   "pygments_lexer": "ipython3",
   "version": "3.7.11"
  }
 },
 "nbformat": 4,
 "nbformat_minor": 5
}
