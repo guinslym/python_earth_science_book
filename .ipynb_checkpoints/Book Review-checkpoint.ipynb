{
 "cells": [
  {
   "cell_type": "markdown",
   "id": "692a68d0",
   "metadata": {},
   "source": [
    "## Book Review per chapter"
   ]
  },
  {
   "cell_type": "markdown",
   "id": "bd95e04c",
   "metadata": {},
   "source": [
    " -Reviewer - Guinsly\n",
    " -[Github Repo](https://github.com/guinslym/python_earth_science_book). This is the code repository and Book Review for the book titled \"[Introduction to Python in Earth Science Data Analysis](https://www.springer.com/gp/book/9783030780548)"
   ]
  },
  {
   "cell_type": "markdown",
   "id": "717936d5",
   "metadata": {},
   "source": [
    "### Chapter 1"
   ]
  },
  {
   "cell_type": "code",
   "execution_count": 1,
   "id": "501235b2",
   "metadata": {},
   "outputs": [
    {
     "data": {
      "text/plain": [
       "'C:\\\\Users\\\\MDW606-CAF\\\\AppData\\\\Roaming\\\\python_earth_science_book-main'"
      ]
     },
     "execution_count": 1,
     "metadata": {},
     "output_type": "execute_result"
    }
   ],
   "source": []
  },
  {
   "cell_type": "markdown",
   "id": "fdf06f40",
   "metadata": {},
   "source": [
    "### Chapter 2\n"
   ]
  },
  {
   "cell_type": "code",
   "execution_count": null,
   "id": "4ed18a1a",
   "metadata": {},
   "outputs": [],
   "source": []
  },
  {
   "cell_type": "markdown",
   "id": "9a3fdfcc",
   "metadata": {},
   "source": [
    "### Chapter 3"
   ]
  },
  {
   "cell_type": "code",
   "execution_count": null,
   "id": "c60d6192",
   "metadata": {},
   "outputs": [],
   "source": []
  },
  {
   "cell_type": "markdown",
   "id": "8cd7ebdb",
   "metadata": {},
   "source": [
    "### Chapter 4"
   ]
  },
  {
   "cell_type": "code",
   "execution_count": null,
   "id": "67a420b6",
   "metadata": {},
   "outputs": [],
   "source": []
  },
  {
   "cell_type": "markdown",
   "id": "226bc379",
   "metadata": {},
   "source": [
    "### Chapter 5"
   ]
  },
  {
   "cell_type": "code",
   "execution_count": null,
   "id": "03dfe2f9",
   "metadata": {},
   "outputs": [],
   "source": []
  },
  {
   "cell_type": "markdown",
   "id": "b9d942e6",
   "metadata": {},
   "source": [
    "### Chapter 6"
   ]
  },
  {
   "cell_type": "code",
   "execution_count": null,
   "id": "0c62edc1",
   "metadata": {},
   "outputs": [],
   "source": []
  },
  {
   "cell_type": "markdown",
   "id": "836814ef",
   "metadata": {},
   "source": [
    "### Chapter 7"
   ]
  },
  {
   "cell_type": "code",
   "execution_count": null,
   "id": "6cc3cd6b",
   "metadata": {},
   "outputs": [],
   "source": []
  },
  {
   "cell_type": "markdown",
   "id": "91336162",
   "metadata": {},
   "source": [
    "### Chapter 8"
   ]
  },
  {
   "cell_type": "code",
   "execution_count": null,
   "id": "916d3e3b",
   "metadata": {},
   "outputs": [],
   "source": []
  },
  {
   "cell_type": "markdown",
   "id": "516fc26e",
   "metadata": {},
   "source": [
    "### Chapter 9"
   ]
  },
  {
   "cell_type": "code",
   "execution_count": null,
   "id": "94da0bfd",
   "metadata": {},
   "outputs": [],
   "source": []
  },
  {
   "cell_type": "markdown",
   "id": "5c2f760b",
   "metadata": {},
   "source": [
    "### Chapter 10"
   ]
  },
  {
   "cell_type": "code",
   "execution_count": null,
   "id": "3780d017",
   "metadata": {},
   "outputs": [],
   "source": []
  },
  {
   "cell_type": "markdown",
   "id": "72290c9f",
   "metadata": {},
   "source": [
    "### Chapter 11"
   ]
  },
  {
   "cell_type": "code",
   "execution_count": null,
   "id": "dad5d9df",
   "metadata": {},
   "outputs": [],
   "source": []
  },
  {
   "cell_type": "markdown",
   "id": "93915c76",
   "metadata": {},
   "source": [
    "### Chapter 12"
   ]
  },
  {
   "cell_type": "code",
   "execution_count": null,
   "id": "2b4aa4d2",
   "metadata": {},
   "outputs": [],
   "source": []
  }
 ],
 "metadata": {
  "kernelspec": {
   "display_name": "Python 3 (ipykernel)",
   "language": "python",
   "name": "python3"
  },
  "language_info": {
   "codemirror_mode": {
    "name": "ipython",
    "version": 3
   },
   "file_extension": ".py",
   "mimetype": "text/x-python",
   "name": "python",
   "nbconvert_exporter": "python",
   "pygments_lexer": "ipython3",
   "version": "3.7.11"
  }
 },
 "nbformat": 4,
 "nbformat_minor": 5
}
